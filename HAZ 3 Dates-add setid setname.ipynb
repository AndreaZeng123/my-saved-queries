{
 "cells": [
  {
   "cell_type": "code",
   "execution_count": 1,
   "id": "c791a849",
   "metadata": {},
   "outputs": [],
   "source": [
    "import os\n",
    "import pandas as pd"
   ]
  },
  {
   "cell_type": "code",
   "execution_count": 2,
   "id": "39a3626b",
   "metadata": {},
   "outputs": [
    {
     "name": "stderr",
     "output_type": "stream",
     "text": [
      "/usr/local/lib/python3.11/dist-packages/google/auth/_default.py:76: UserWarning: Your application has authenticated using end user credentials from Google Cloud SDK without a quota project. You might receive a \"quota exceeded\" or \"API not enabled\" error. See the following page for troubleshooting: https://cloud.google.com/docs/authentication/adc-troubleshooting/user-creds. \n",
      "  warnings.warn(_CLOUD_SDK_CREDENTIALS_WARNING)\n"
     ]
    }
   ],
   "source": [
    "from google.cloud import bigquery\n",
    "\n",
    "project = 'bcs-csw-core'\n",
    "client = bigquery.Client(project=project)\n",
    "\n",
    "# Perform a query.\n",
    "QUERY = \"\"\"\n",
    "-- set constants\n",
    "WITH declares AS (\n",
    "  SELECT \n",
    "    DATE '2024-01-01' AS start_date,\n",
    "    2024 AS target_planting_year,\n",
    "    '10002' AS station, -- station where serial number is separated into hopper and station\n",
    "    ARRAY<STRING> ['Corn', 'Cotton', 'Wheat', 'Soybean', 'Soybeans', 'Sweet Corn'] AS crops,\n",
    "    ARRAY<STRING> ['10002-004', '10002-041', '10002-048', '10002-049', '10002-053', '10002-072', '10002-075', '10002-076', '10002-079', '10002-085'] AS WIB_machines, -- WIB machine\n",
    "    ARRAY<STRING> ['10002-081', '10002-001', '10002-005', '10002-028', '10002-019', '10002-020', '10002-071', '10002-084',\n",
    "                  '10002-029', '10002-058', '10002-062', '10002-030', '10002-059', '10002-057', '10002-063',\n",
    "                  '10002-061', '10002-056', '10002-065', '10002-082', '10002-002', '10002-023', '10002-022', '10002-024',\n",
    "                  '10002-064', '10002-027', '10002-055', '10002-026', '10002-088', '10002-025', '10002-090'] AS HAZ_machines,\n",
    "\n",
    "ARRAY<STRING> ['10002-019','10002-020','10002-022','10002-025','10002-029','10002-055','10002-062','10002-063','10002-065','10002-071','10002-081','10002-084','10002-088','10002-090'] AS CAT3_machines,\n",
    "ARRAY<STRING> ['10002-001','10002-002','10002-005','10002-023','10002-024','10002-026','10002-027','10002-028','10002-030','10002-056','10002-057','10002-058','10002-059','10002-061','10002-064','10002-082'] AS CAT2_machines,\n",
    "),\n",
    "\n",
    "-- cast machine ids to ints, add site label\n",
    "machine_decoder AS (\n",
    "  \n",
    "  SELECT *,\n",
    "  LTRIM(REGEXP_EXTRACT(machines, r'^[a-zA-Z0-9_.+-]+\\-([a-zA-Z0-9-.]+$)'), '0') AS hopper,\n",
    "  CASE WHEN (machines IN (SELECT WIB_machines FROM declares, UNNEST(WIB_machines) AS WIB_machines))\n",
    "    THEN 'WIB' ELSE 'HAZ' END AS site,\n",
    "    CASE WHEN (machines IN (SELECT CAT3_machines FROM declares, UNNEST(CAT3_machines) AS CAT3_machines))\n",
    "    THEN 'Cat 3' \n",
    "     WHEN (machines IN (SELECT CAT2_machines FROM declares, UNNEST(CAT2_machines) AS CAT2_machines))\n",
    "    THEN 'Cat 2'\n",
    "    END AS category\n",
    "  FROM (\n",
    "    SELECT machines  \n",
    "    FROM declares,\n",
    "    UNNEST(ARRAY_CONCAT(declares.HAZ_machines, declares.WIB_machines)) AS machines\n",
    "  )\n",
    "\n",
    "),\n",
    "\n",
    "-- all dates\n",
    "-- changed this trying to clean up the output, but it didn't work like I expected\n",
    "date_range AS (\n",
    "  SELECT * \n",
    "  FROM (SELECT DATE AS day\n",
    "        FROM UNNEST(GENERATE_DATE_ARRAY(DATE '2024-01-01', DATE '2024-12-30', INTERVAL 1 DAY)) AS date\n",
    "        )\n",
    "  CROSS JOIN (\n",
    "      SELECT site\n",
    "      FROM UNNEST(ARRAY<STRING>['WIB', 'HAZ']) AS site  -- move to declares\n",
    "  )\n",
    "),\n",
    "\n",
    "\n",
    "HAZ_filled_cells AS (\n",
    "SELECT\n",
    "         planting_session_id,\n",
    "         site,\n",
    "         category,\n",
    "         cassette_id, \n",
    "         cell_number,\n",
    "         inventory_bid\n",
    "  FROM `bcs-breeding-datasets.breeding_operations.influx_field_cassette_as_filled_cell` flex\n",
    " \n",
    "  INNER JOIN (SELECT site, hopper, category FROM machine_decoder) AS decoder\n",
    "    ON flex.hopper = decoder.hopper\n",
    "\n",
    "  WHERE EXTRACT(DATE FROM filled_on) >= (SELECT start_date FROM declares)\n",
    "  AND flex.station = (SELECT station FROM declares)\n",
    "),\n",
    "\n",
    "first_join AS (\n",
    "SELECT  inv_bid,barcode, MAX(EXTRACT(Date from datetime_start))AS inventory_available_date\n",
    "FROM `bcs-breeding-datasets.breeding_operations.mactracker_shellmatic_3`  s3\n",
    "left join `bcs-csw-core.velocity.inventory` inv\n",
    "on s3.inv_bid = inv.legacyBarcode\n",
    "where EXTRACT(DATE FROM datetime_start) >= (SELECT start_date FROM declares)\n",
    "GROUP BY 1,2\n",
    "),\n",
    "\n",
    "\n",
    "HAZ_filled_join_created AS (\n",
    "  SELECT HAZ_filled_cells.*,inventory_available_date, created_on\n",
    "  FROM HAZ_filled_cells\n",
    "  LEFT JOIN `bcs-breeding-datasets.breeding_operations.influx_field_cassette_planting_session` ps\n",
    "  ON ps.id = HAZ_filled_cells.planting_session_id\n",
    "  LEFT JOIN first_join AS first_join_inv \n",
    "  ON first_join_inv.barcode = cast(HAZ_filled_cells.inventory_bid as int64)\n",
    "),\n",
    "\n",
    "inv as (SELECT barcode, legacyBarcode\n",
    "FROM `bcs-breeding-datasets.velocity.inventory`),\n",
    "find_sender as (\n",
    "select inv.*, matexc.receiver_inv_barcode, matexc.sender_inv_barcode\n",
    "from inv \n",
    "left join `bcs-csw-core.exadata.midas_material_exchange` matexc\n",
    "on matexc.receiver_inv_barcode = inv.legacyBarcode),\n",
    "\n",
    "combine_2_fts_barcode as (\n",
    "select barcode, \n",
    "case when sender_inv_barcode is not null then sender_inv_barcode\n",
    "else legacyBarcode \n",
    "end as fts_code\n",
    "from find_sender),\n",
    "\n",
    "second_join as (\n",
    "select inv_bid, barcode, max(extract(date from datetime_start)) as inventory_available_date_2\n",
    "from `bcs-breeding-datasets.breeding_operations.mactracker_shellmatic_3` s3\n",
    "join combine_2_fts_barcode \n",
    "on combine_2_fts_barcode.fts_code = s3.inv_bid\n",
    "where EXTRACT(DATE FROM datetime_start) >= (SELECT start_date FROM declares)\n",
    "group by 1,2),\n",
    "\n",
    "HAZ_filled_join_created_2 AS (\n",
    "  SELECT *,\n",
    "  CASE WHEN inventory_available_date is not null then inventory_available_date\n",
    "  else inventory_available_date_2\n",
    "  end as inventory_available_date_3\n",
    "  FROM HAZ_filled_join_created\n",
    "  left JOIN second_join \n",
    "  on second_join.barcode = cast(HAZ_filled_join_created.inventory_bid as int64)\n",
    "),\n",
    "\n",
    "RTE_date_table AS (\n",
    "  SELECT setId,MAX(EXTRACT(Date from audit_time_stamp)) AS RTE_date\n",
    "  FROM `bcs-breeding-datasets.velocity.set_audits`\n",
    "  where audit_status = 'Material Fulfillment: Ready to Execute'\n",
    "  GROUP BY setId\n",
    "),\n",
    "\n",
    "HAZ_filled_created_plotrow AS (\n",
    "  SELECT HAZ_filled_join_created_2.*, type, plrow.set_id,plrow.set_name,RTE_date\n",
    "  FROM HAZ_filled_join_created_2\n",
    "  JOIN `bcs-breeding-datasets.breeding_operations.influx_field_cassette_cell` cell \n",
    "  ON HAZ_filled_join_created_2.cassette_id = cell.cassette_id and HAZ_filled_join_created_2.cell_number = cell.cell_number\n",
    "  JOIN `bcs-breeding-datasets.breeding_operations.influx_field_cassette_plot_row` plrow\n",
    "  ON cell.plot_row_id = plrow.id \n",
    "  LEFT JOIN RTE_date_table \n",
    "  ON RTE_date_table.setId = plrow.set_id)\n",
    "\n",
    " , output as (\n",
    "  select distinct cassette_id,cell_number,set_id,set_name,\n",
    "  case when type in ('border','buffer') then type\n",
    "  else category \n",
    "  end as cat_type,\n",
    "  planting_session_id,\n",
    "  inventory_available_date_3,\n",
    "  RTE_date,\n",
    "  EXTRACT(Date from created_on) AS cassette_finalized_date,\n",
    "    \n",
    "  from HAZ_filled_created_plotrow\n",
    "  where site = 'HAZ'\n",
    "  order by cassette_id, cell_number   )\n",
    "\n",
    "  select *\n",
    "  from output\n",
    "order by 1,2\n",
    "\n",
    "\n",
    "\n",
    "\"\"\"\n",
    "output = client.query(QUERY).result().to_dataframe() \n",
    "\n"
   ]
  },
  {
   "cell_type": "code",
   "execution_count": 3,
   "id": "579a5686",
   "metadata": {
    "scrolled": true
   },
   "outputs": [
    {
     "data": {
      "text/html": [
       "<div>\n",
       "<style scoped>\n",
       "    .dataframe tbody tr th:only-of-type {\n",
       "        vertical-align: middle;\n",
       "    }\n",
       "\n",
       "    .dataframe tbody tr th {\n",
       "        vertical-align: top;\n",
       "    }\n",
       "\n",
       "    .dataframe thead th {\n",
       "        text-align: right;\n",
       "    }\n",
       "</style>\n",
       "<table border=\"1\" class=\"dataframe\">\n",
       "  <thead>\n",
       "    <tr style=\"text-align: right;\">\n",
       "      <th></th>\n",
       "      <th>cassette_id</th>\n",
       "      <th>cell_number</th>\n",
       "      <th>set_id</th>\n",
       "      <th>set_name</th>\n",
       "      <th>cat_type</th>\n",
       "      <th>planting_session_id</th>\n",
       "      <th>inventory_available_date_3</th>\n",
       "      <th>RTE_date</th>\n",
       "      <th>cassette_finalized_date</th>\n",
       "    </tr>\n",
       "  </thead>\n",
       "  <tbody>\n",
       "    <tr>\n",
       "      <th>894229</th>\n",
       "      <td>ffff0c68-9da0-4f4a-8118-55ccd483c624</td>\n",
       "      <td>36</td>\n",
       "      <td>&lt;NA&gt;</td>\n",
       "      <td>None</td>\n",
       "      <td>buffer</td>\n",
       "      <td>503c79c4-3875-42a7-ac94-148c4283c74e</td>\n",
       "      <td>NaT</td>\n",
       "      <td>NaT</td>\n",
       "      <td>2024-03-28</td>\n",
       "    </tr>\n",
       "    <tr>\n",
       "      <th>894230</th>\n",
       "      <td>ffff0c68-9da0-4f4a-8118-55ccd483c624</td>\n",
       "      <td>37</td>\n",
       "      <td>&lt;NA&gt;</td>\n",
       "      <td>None</td>\n",
       "      <td>buffer</td>\n",
       "      <td>503c79c4-3875-42a7-ac94-148c4283c74e</td>\n",
       "      <td>NaT</td>\n",
       "      <td>NaT</td>\n",
       "      <td>2024-03-28</td>\n",
       "    </tr>\n",
       "    <tr>\n",
       "      <th>894231</th>\n",
       "      <td>ffff0c68-9da0-4f4a-8118-55ccd483c624</td>\n",
       "      <td>38</td>\n",
       "      <td>&lt;NA&gt;</td>\n",
       "      <td>None</td>\n",
       "      <td>buffer</td>\n",
       "      <td>503c79c4-3875-42a7-ac94-148c4283c74e</td>\n",
       "      <td>NaT</td>\n",
       "      <td>NaT</td>\n",
       "      <td>2024-03-28</td>\n",
       "    </tr>\n",
       "    <tr>\n",
       "      <th>894232</th>\n",
       "      <td>ffff0c68-9da0-4f4a-8118-55ccd483c624</td>\n",
       "      <td>39</td>\n",
       "      <td>&lt;NA&gt;</td>\n",
       "      <td>None</td>\n",
       "      <td>buffer</td>\n",
       "      <td>503c79c4-3875-42a7-ac94-148c4283c74e</td>\n",
       "      <td>NaT</td>\n",
       "      <td>NaT</td>\n",
       "      <td>2024-03-28</td>\n",
       "    </tr>\n",
       "    <tr>\n",
       "      <th>894233</th>\n",
       "      <td>ffff0c68-9da0-4f4a-8118-55ccd483c624</td>\n",
       "      <td>40</td>\n",
       "      <td>&lt;NA&gt;</td>\n",
       "      <td>None</td>\n",
       "      <td>buffer</td>\n",
       "      <td>503c79c4-3875-42a7-ac94-148c4283c74e</td>\n",
       "      <td>NaT</td>\n",
       "      <td>NaT</td>\n",
       "      <td>2024-03-28</td>\n",
       "    </tr>\n",
       "  </tbody>\n",
       "</table>\n",
       "</div>"
      ],
      "text/plain": [
       "                                 cassette_id  cell_number  set_id set_name  \\\n",
       "894229  ffff0c68-9da0-4f4a-8118-55ccd483c624           36    <NA>     None   \n",
       "894230  ffff0c68-9da0-4f4a-8118-55ccd483c624           37    <NA>     None   \n",
       "894231  ffff0c68-9da0-4f4a-8118-55ccd483c624           38    <NA>     None   \n",
       "894232  ffff0c68-9da0-4f4a-8118-55ccd483c624           39    <NA>     None   \n",
       "894233  ffff0c68-9da0-4f4a-8118-55ccd483c624           40    <NA>     None   \n",
       "\n",
       "       cat_type                   planting_session_id  \\\n",
       "894229   buffer  503c79c4-3875-42a7-ac94-148c4283c74e   \n",
       "894230   buffer  503c79c4-3875-42a7-ac94-148c4283c74e   \n",
       "894231   buffer  503c79c4-3875-42a7-ac94-148c4283c74e   \n",
       "894232   buffer  503c79c4-3875-42a7-ac94-148c4283c74e   \n",
       "894233   buffer  503c79c4-3875-42a7-ac94-148c4283c74e   \n",
       "\n",
       "       inventory_available_date_3 RTE_date cassette_finalized_date  \n",
       "894229                        NaT      NaT              2024-03-28  \n",
       "894230                        NaT      NaT              2024-03-28  \n",
       "894231                        NaT      NaT              2024-03-28  \n",
       "894232                        NaT      NaT              2024-03-28  \n",
       "894233                        NaT      NaT              2024-03-28  "
      ]
     },
     "execution_count": 3,
     "metadata": {},
     "output_type": "execute_result"
    }
   ],
   "source": [
    "output.tail()"
   ]
  },
  {
   "cell_type": "code",
   "execution_count": null,
   "id": "eea24191",
   "metadata": {},
   "outputs": [],
   "source": [
    "# output.to_excel('3 Dates by Category.xlsx')"
   ]
  },
  {
   "cell_type": "code",
   "execution_count": 4,
   "id": "da9f0e75",
   "metadata": {},
   "outputs": [
    {
     "data": {
      "text/plain": [
       "cassette_id                        0\n",
       "cell_number                        0\n",
       "set_id                        289555\n",
       "set_name                      289555\n",
       "cat_type                           0\n",
       "planting_session_id                0\n",
       "inventory_available_date_3    551738\n",
       "RTE_date                      289555\n",
       "cassette_finalized_date            0\n",
       "dtype: int64"
      ]
     },
     "execution_count": 4,
     "metadata": {},
     "output_type": "execute_result"
    }
   ],
   "source": [
    "output.isnull().sum()"
   ]
  },
  {
   "cell_type": "code",
   "execution_count": 22,
   "id": "f41a6a72",
   "metadata": {},
   "outputs": [
    {
     "data": {
      "text/plain": [
       "(894234, 9)"
      ]
     },
     "execution_count": 22,
     "metadata": {},
     "output_type": "execute_result"
    }
   ],
   "source": [
    "output.shape"
   ]
  },
  {
   "cell_type": "code",
   "execution_count": 61,
   "id": "c827dd3f",
   "metadata": {},
   "outputs": [],
   "source": [
    "inv_avl = output.groupby(['inventory_available_date_3','cat_type']).size().reset_index(name='n_cells')\n",
    "inv_avl_pivot = inv_avl.pivot(index=\"inventory_available_date_3\", columns=\"cat_type\", values=\"n_cells\")"
   ]
  },
  {
   "cell_type": "code",
   "execution_count": 62,
   "id": "d7a8b6b1",
   "metadata": {},
   "outputs": [],
   "source": [
    "rte = output.groupby(['RTE_date','cat_type']).size().reset_index(name='n_cells')\n",
    "rte_pivot = rte.pivot(index=\"RTE_date\", columns=\"cat_type\", values=\"n_cells\")"
   ]
  },
  {
   "cell_type": "code",
   "execution_count": 63,
   "id": "e1ded795",
   "metadata": {},
   "outputs": [],
   "source": [
    "c_finalized = output.groupby(['cassette_finalized_date','cat_type']).size().reset_index(name='n_cells')\n",
    "c_finalized_pivot = c_finalized.pivot(index=\"cassette_finalized_date\", columns=\"cat_type\", values=\"n_cells\")"
   ]
  },
  {
   "cell_type": "code",
   "execution_count": null,
   "id": "2689cf70",
   "metadata": {},
   "outputs": [],
   "source": []
  },
  {
   "cell_type": "code",
   "execution_count": 5,
   "id": "d5a71a6a",
   "metadata": {},
   "outputs": [],
   "source": [
    "# subset to only 2024 \n",
    "gl = pd.read_csv('HSC Greenlight System.csv')\n",
    "gl['Actionable Date'] = pd.to_datetime(gl['Actionable Date'])\n",
    "gl['modified_date'] = pd.to_datetime(gl.Modified.str.split(' ').str[0])\n",
    "gl['Greenlight Date'] =gl['Actionable Date'].fillna(gl['modified_date'])\n",
    "gl_2024 = gl[(gl['Greenlight Date'].dt.year == 2024) & (\n",
    "    gl['Planning Status:'] == 'Ready To Package') & (gl['Material Disposition'].str.contains('Velocity'))].copy()"
   ]
  },
  {
   "cell_type": "code",
   "execution_count": 9,
   "id": "5bdd37ce",
   "metadata": {},
   "outputs": [],
   "source": [
    "# Assuming 'DirtyColumn' is the column with messy data\n",
    "dirty_column = gl_2024['Set IDs/Set Names']"
   ]
  },
  {
   "cell_type": "code",
   "execution_count": 10,
   "id": "49a00689",
   "metadata": {},
   "outputs": [],
   "source": [
    "import re\n",
    "\n",
    "def extract_data_with_range(row, index):\n",
    "    ids = []\n",
    "    block_names = []\n",
    "    set_names = []\n",
    "    other_columns = {}\n",
    "    \n",
    "    # Regex patterns\n",
    "    id_pattern = r'\\b\\d+\\b'  # Matches sequences of digits\n",
    "    block_pattern = r'\\b\\w+_\\w+\\b'  # Matches words separated by underscore\n",
    "    name_pattern = r'\\b\\w+ L\\d+\\b'  # Matches words followed by \" Lxx\"\n",
    "    range_pattern = r'(\\d+)\\s*-\\s*(\\d+)\\s*\\(.*?(\\d+)\\s*sets.*?\\)'  # Matches ranges like \"480664 - 480669 (6 sets)\"\n",
    "    \n",
    "    # Find all Sets Set Ids\n",
    "    ids.extend(re.findall(id_pattern, row))\n",
    "    \n",
    "    # Find all Experiment Block Names\n",
    "    block_names.extend(re.findall(block_pattern, row))\n",
    "    \n",
    "    # Find all Set Names\n",
    "    set_names.extend(re.findall(name_pattern, row))\n",
    "    \n",
    "    # Handle range cases\n",
    "    ranges = re.findall(range_pattern, row)\n",
    "    for start, end, count in ranges:\n",
    "        start = int(start)\n",
    "        end = int(end)\n",
    "        count = int(count)\n",
    "        if end >= start and count > 1:\n",
    "            ids.extend(map(str, range(start, end + 1)))\n",
    "    \n",
    "    # Extract other columns from original DataFrame\n",
    "    other_columns = {col: gl_2024.loc[index, col] for col in gl_2024.columns if col != 'DirtyColumn'}\n",
    "    \n",
    "    return ids, block_names, set_names, other_columns\n"
   ]
  },
  {
   "cell_type": "code",
   "execution_count": 11,
   "id": "206f5352",
   "metadata": {},
   "outputs": [],
   "source": [
    "cleaned_data = []\n",
    "\n",
    "for index, row in dirty_column.items():\n",
    "    ids, block_names, set_names, other_columns = extract_data_with_range(row, index)\n",
    "    \n",
    "    # Append new rows based on extracted data\n",
    "    for id in ids:\n",
    "        new_row = {'Set Id': id, 'Experiment Block Name': None, 'Set Name': None}\n",
    "        new_row.update(other_columns)  # Add other columns\n",
    "        cleaned_data.append(new_row)\n",
    "    \n",
    "    for block_name in block_names:\n",
    "        new_row = {'Set Id': None, 'Experiment Block Name': block_name, 'Set Name': None}\n",
    "        new_row.update(other_columns)  # Add other columns\n",
    "        cleaned_data.append(new_row)\n",
    "    \n",
    "    for set_name in set_names:\n",
    "        new_row = {'Set Id': None, 'Experiment Block Name': None, 'Set Name': set_name}\n",
    "        new_row.update(other_columns)  # Add other columns\n",
    "        cleaned_data.append(new_row)\n",
    "\n",
    "# Create a new DataFrame with cleaned data\n",
    "cleaned_gl_2024 = pd.DataFrame(cleaned_data)"
   ]
  },
  {
   "cell_type": "code",
   "execution_count": 12,
   "id": "50269a8b",
   "metadata": {},
   "outputs": [],
   "source": [
    "cleaned_gl_2024['Set Id'] = pd.to_numeric(cleaned_gl_2024['Set Id'])"
   ]
  },
  {
   "cell_type": "code",
   "execution_count": 14,
   "id": "ee808613",
   "metadata": {},
   "outputs": [],
   "source": [
    "cleaned_gl_2024 = cleaned_gl_2024.drop_duplicates()"
   ]
  },
  {
   "cell_type": "code",
   "execution_count": 15,
   "id": "8e7cd1e3",
   "metadata": {},
   "outputs": [
    {
     "data": {
      "text/plain": [
       "(6429, 31)"
      ]
     },
     "execution_count": 15,
     "metadata": {},
     "output_type": "execute_result"
    }
   ],
   "source": [
    "cleaned_gl_2024.shape"
   ]
  },
  {
   "cell_type": "code",
   "execution_count": 16,
   "id": "bb6d2683",
   "metadata": {},
   "outputs": [],
   "source": [
    "final_gl_2024 = cleaned_gl_2024[['Set Id','Experiment Block Name', 'Set Name','Greenlight Date']]"
   ]
  },
  {
   "cell_type": "code",
   "execution_count": 17,
   "id": "43232d21",
   "metadata": {},
   "outputs": [
    {
     "data": {
      "text/plain": [
       "(6429, 4)"
      ]
     },
     "execution_count": 17,
     "metadata": {},
     "output_type": "execute_result"
    }
   ],
   "source": [
    "final_gl_2024.shape"
   ]
  },
  {
   "cell_type": "code",
   "execution_count": null,
   "id": "86f6a6c7",
   "metadata": {},
   "outputs": [],
   "source": []
  },
  {
   "cell_type": "code",
   "execution_count": 24,
   "id": "d736722a",
   "metadata": {},
   "outputs": [],
   "source": [
    "# Filter to include only non-null rows in the join key\n",
    "output_filtered = output[output['set_id'].notnull()]\n",
    "\n",
    "# Perform left join\n",
    "merged_df1 = pd.merge(output_filtered, final_gl_2024, left_on='set_id', right_on='Set Id', how='left')"
   ]
  },
  {
   "cell_type": "code",
   "execution_count": 33,
   "id": "185b809d",
   "metadata": {
    "scrolled": true
   },
   "outputs": [
    {
     "data": {
      "text/plain": [
       "(604679, 13)"
      ]
     },
     "execution_count": 33,
     "metadata": {},
     "output_type": "execute_result"
    }
   ],
   "source": [
    "merged_df1.shape"
   ]
  },
  {
   "cell_type": "code",
   "execution_count": 34,
   "id": "e4008a35",
   "metadata": {},
   "outputs": [
    {
     "data": {
      "text/html": [
       "<div>\n",
       "<style scoped>\n",
       "    .dataframe tbody tr th:only-of-type {\n",
       "        vertical-align: middle;\n",
       "    }\n",
       "\n",
       "    .dataframe tbody tr th {\n",
       "        vertical-align: top;\n",
       "    }\n",
       "\n",
       "    .dataframe thead th {\n",
       "        text-align: right;\n",
       "    }\n",
       "</style>\n",
       "<table border=\"1\" class=\"dataframe\">\n",
       "  <thead>\n",
       "    <tr style=\"text-align: right;\">\n",
       "      <th></th>\n",
       "      <th>cassette_id</th>\n",
       "      <th>cell_number</th>\n",
       "      <th>set_id</th>\n",
       "      <th>set_name</th>\n",
       "      <th>cat_type</th>\n",
       "      <th>planting_session_id</th>\n",
       "      <th>inventory_available_date_3</th>\n",
       "      <th>RTE_date</th>\n",
       "      <th>cassette_finalized_date</th>\n",
       "      <th>Set Id</th>\n",
       "      <th>Experiment Block Name</th>\n",
       "      <th>Set Name</th>\n",
       "      <th>Greenlight Date</th>\n",
       "    </tr>\n",
       "  </thead>\n",
       "  <tbody>\n",
       "    <tr>\n",
       "      <th>604677</th>\n",
       "      <td>fff0b09a-5b5e-448d-8f6b-1c23ec6f30d4</td>\n",
       "      <td>119</td>\n",
       "      <td>419451</td>\n",
       "      <td>RCN_REITDR L01</td>\n",
       "      <td>Cat 3</td>\n",
       "      <td>0c977944-e328-4bd5-8378-153548126603</td>\n",
       "      <td>NaT</td>\n",
       "      <td>2024-03-26</td>\n",
       "      <td>2024-03-29</td>\n",
       "      <td>419451.0</td>\n",
       "      <td>None</td>\n",
       "      <td>None</td>\n",
       "      <td>2024-03-25</td>\n",
       "    </tr>\n",
       "    <tr>\n",
       "      <th>604678</th>\n",
       "      <td>fff0b09a-5b5e-448d-8f6b-1c23ec6f30d4</td>\n",
       "      <td>120</td>\n",
       "      <td>419451</td>\n",
       "      <td>RCN_REITDR L01</td>\n",
       "      <td>border</td>\n",
       "      <td>0c977944-e328-4bd5-8378-153548126603</td>\n",
       "      <td>NaT</td>\n",
       "      <td>2024-03-26</td>\n",
       "      <td>2024-03-29</td>\n",
       "      <td>419451.0</td>\n",
       "      <td>None</td>\n",
       "      <td>None</td>\n",
       "      <td>2024-03-25</td>\n",
       "    </tr>\n",
       "  </tbody>\n",
       "</table>\n",
       "</div>"
      ],
      "text/plain": [
       "                                 cassette_id  cell_number  set_id  \\\n",
       "604677  fff0b09a-5b5e-448d-8f6b-1c23ec6f30d4          119  419451   \n",
       "604678  fff0b09a-5b5e-448d-8f6b-1c23ec6f30d4          120  419451   \n",
       "\n",
       "              set_name cat_type                   planting_session_id  \\\n",
       "604677  RCN_REITDR L01    Cat 3  0c977944-e328-4bd5-8378-153548126603   \n",
       "604678  RCN_REITDR L01   border  0c977944-e328-4bd5-8378-153548126603   \n",
       "\n",
       "       inventory_available_date_3    RTE_date cassette_finalized_date  \\\n",
       "604677                        NaT  2024-03-26              2024-03-29   \n",
       "604678                        NaT  2024-03-26              2024-03-29   \n",
       "\n",
       "          Set Id Experiment Block Name Set Name Greenlight Date  \n",
       "604677  419451.0                  None     None      2024-03-25  \n",
       "604678  419451.0                  None     None      2024-03-25  "
      ]
     },
     "execution_count": 34,
     "metadata": {},
     "output_type": "execute_result"
    }
   ],
   "source": [
    "merged_df1.tail(2)"
   ]
  },
  {
   "cell_type": "code",
   "execution_count": 31,
   "id": "43f0bd44",
   "metadata": {},
   "outputs": [
    {
     "data": {
      "text/html": [
       "<div>\n",
       "<style scoped>\n",
       "    .dataframe tbody tr th:only-of-type {\n",
       "        vertical-align: middle;\n",
       "    }\n",
       "\n",
       "    .dataframe tbody tr th {\n",
       "        vertical-align: top;\n",
       "    }\n",
       "\n",
       "    .dataframe thead th {\n",
       "        text-align: right;\n",
       "    }\n",
       "</style>\n",
       "<table border=\"1\" class=\"dataframe\">\n",
       "  <thead>\n",
       "    <tr style=\"text-align: right;\">\n",
       "      <th></th>\n",
       "      <th>cassette_id</th>\n",
       "      <th>cell_number</th>\n",
       "      <th>set_id</th>\n",
       "      <th>set_name</th>\n",
       "      <th>cat_type</th>\n",
       "      <th>planting_session_id</th>\n",
       "      <th>inventory_available_date_3</th>\n",
       "      <th>RTE_date</th>\n",
       "      <th>cassette_finalized_date</th>\n",
       "    </tr>\n",
       "  </thead>\n",
       "  <tbody>\n",
       "  </tbody>\n",
       "</table>\n",
       "</div>"
      ],
      "text/plain": [
       "Empty DataFrame\n",
       "Columns: [cassette_id, cell_number, set_id, set_name, cat_type, planting_session_id, inventory_available_date_3, RTE_date, cassette_finalized_date]\n",
       "Index: []"
      ]
     },
     "execution_count": 31,
     "metadata": {},
     "output_type": "execute_result"
    }
   ],
   "source": [
    "# Checked and found that rows having set_id would have set_name\n",
    "# so we don't need to do the merge for the rest\n",
    "\n",
    "output[(output['set_id'].isnull()) & (output['set_name'].notnull())]"
   ]
  },
  {
   "cell_type": "code",
   "execution_count": 32,
   "id": "49ad3bf9",
   "metadata": {},
   "outputs": [
    {
     "data": {
      "text/plain": [
       "(289555, 9)"
      ]
     },
     "execution_count": 32,
     "metadata": {},
     "output_type": "execute_result"
    }
   ],
   "source": [
    "rest_output = output[output['set_id'].isnull()]\n",
    "rest_output.shape"
   ]
  },
  {
   "cell_type": "code",
   "execution_count": 45,
   "id": "15e99400",
   "metadata": {},
   "outputs": [
    {
     "data": {
      "text/html": [
       "<div>\n",
       "<style scoped>\n",
       "    .dataframe tbody tr th:only-of-type {\n",
       "        vertical-align: middle;\n",
       "    }\n",
       "\n",
       "    .dataframe tbody tr th {\n",
       "        vertical-align: top;\n",
       "    }\n",
       "\n",
       "    .dataframe thead th {\n",
       "        text-align: right;\n",
       "    }\n",
       "</style>\n",
       "<table border=\"1\" class=\"dataframe\">\n",
       "  <thead>\n",
       "    <tr style=\"text-align: right;\">\n",
       "      <th></th>\n",
       "      <th>cassette_id</th>\n",
       "      <th>cell_number</th>\n",
       "      <th>set_id</th>\n",
       "      <th>set_name</th>\n",
       "      <th>cat_type</th>\n",
       "      <th>planting_session_id</th>\n",
       "      <th>inventory_available_date_3</th>\n",
       "      <th>RTE_date</th>\n",
       "      <th>cassette_finalized_date</th>\n",
       "    </tr>\n",
       "  </thead>\n",
       "  <tbody>\n",
       "    <tr>\n",
       "      <th>0</th>\n",
       "      <td>00100684-1245-42c2-94dc-ebbdf5b071f4</td>\n",
       "      <td>1</td>\n",
       "      <td>&lt;NA&gt;</td>\n",
       "      <td>None</td>\n",
       "      <td>buffer</td>\n",
       "      <td>63457052-f02d-475f-b39b-429943d99128</td>\n",
       "      <td>NaT</td>\n",
       "      <td>NaT</td>\n",
       "      <td>2024-03-29</td>\n",
       "    </tr>\n",
       "    <tr>\n",
       "      <th>1</th>\n",
       "      <td>00100684-1245-42c2-94dc-ebbdf5b071f4</td>\n",
       "      <td>2</td>\n",
       "      <td>&lt;NA&gt;</td>\n",
       "      <td>None</td>\n",
       "      <td>buffer</td>\n",
       "      <td>63457052-f02d-475f-b39b-429943d99128</td>\n",
       "      <td>NaT</td>\n",
       "      <td>NaT</td>\n",
       "      <td>2024-03-29</td>\n",
       "    </tr>\n",
       "  </tbody>\n",
       "</table>\n",
       "</div>"
      ],
      "text/plain": [
       "                            cassette_id  cell_number  set_id set_name  \\\n",
       "0  00100684-1245-42c2-94dc-ebbdf5b071f4            1    <NA>     None   \n",
       "1  00100684-1245-42c2-94dc-ebbdf5b071f4            2    <NA>     None   \n",
       "\n",
       "  cat_type                   planting_session_id inventory_available_date_3  \\\n",
       "0   buffer  63457052-f02d-475f-b39b-429943d99128                        NaT   \n",
       "1   buffer  63457052-f02d-475f-b39b-429943d99128                        NaT   \n",
       "\n",
       "  RTE_date cassette_finalized_date  \n",
       "0      NaT              2024-03-29  \n",
       "1      NaT              2024-03-29  "
      ]
     },
     "execution_count": 45,
     "metadata": {},
     "output_type": "execute_result"
    }
   ],
   "source": [
    "rest_output.head(2)"
   ]
  },
  {
   "cell_type": "code",
   "execution_count": 35,
   "id": "e48b18e3",
   "metadata": {},
   "outputs": [
    {
     "data": {
      "text/plain": [
       "(5712, 13)"
      ]
     },
     "execution_count": 35,
     "metadata": {},
     "output_type": "execute_result"
    }
   ],
   "source": [
    "# In the merged_df1, see if there's any rows that have gl_date null, for them, try merge by set name\n",
    "filter2 = merged_df1[merged_df1['Greenlight Date'].isnull()]\n",
    "filter2.shape"
   ]
  },
  {
   "cell_type": "code",
   "execution_count": 39,
   "id": "dfb13dbf",
   "metadata": {},
   "outputs": [
    {
     "data": {
      "text/plain": [
       "Index(['cassette_id', 'cell_number', 'set_id', 'set_name', 'cat_type',\n",
       "       'planting_session_id', 'inventory_available_date_3', 'RTE_date',\n",
       "       'cassette_finalized_date', 'Set Id', 'Experiment Block Name',\n",
       "       'Set Name', 'Greenlight Date'],\n",
       "      dtype='object')"
      ]
     },
     "execution_count": 39,
     "metadata": {},
     "output_type": "execute_result"
    }
   ],
   "source": [
    "filter2.columns"
   ]
  },
  {
   "cell_type": "code",
   "execution_count": 40,
   "id": "9b93942e",
   "metadata": {},
   "outputs": [
    {
     "data": {
      "text/plain": [
       "(5712, 13)"
      ]
     },
     "execution_count": 40,
     "metadata": {},
     "output_type": "execute_result"
    }
   ],
   "source": [
    "merged_df2 = pd.merge(filter2[['cassette_id', 'cell_number', 'set_id', 'set_name', 'cat_type',\n",
    "       'planting_session_id', 'inventory_available_date_3', 'RTE_date',\n",
    "       'cassette_finalized_date']], final_gl_2024, left_on='set_name', right_on='Set Name', how='left')\n",
    "merged_df2.shape"
   ]
  },
  {
   "cell_type": "code",
   "execution_count": 42,
   "id": "3ec99cfd",
   "metadata": {
    "scrolled": true
   },
   "outputs": [
    {
     "data": {
      "text/html": [
       "<div>\n",
       "<style scoped>\n",
       "    .dataframe tbody tr th:only-of-type {\n",
       "        vertical-align: middle;\n",
       "    }\n",
       "\n",
       "    .dataframe tbody tr th {\n",
       "        vertical-align: top;\n",
       "    }\n",
       "\n",
       "    .dataframe thead th {\n",
       "        text-align: right;\n",
       "    }\n",
       "</style>\n",
       "<table border=\"1\" class=\"dataframe\">\n",
       "  <thead>\n",
       "    <tr style=\"text-align: right;\">\n",
       "      <th></th>\n",
       "      <th>cassette_id</th>\n",
       "      <th>cell_number</th>\n",
       "      <th>set_id</th>\n",
       "      <th>set_name</th>\n",
       "      <th>cat_type</th>\n",
       "      <th>planting_session_id</th>\n",
       "      <th>inventory_available_date_3</th>\n",
       "      <th>RTE_date</th>\n",
       "      <th>cassette_finalized_date</th>\n",
       "      <th>Set Id</th>\n",
       "      <th>Experiment Block Name</th>\n",
       "      <th>Set Name</th>\n",
       "      <th>Greenlight Date</th>\n",
       "    </tr>\n",
       "  </thead>\n",
       "  <tbody>\n",
       "    <tr>\n",
       "      <th>0</th>\n",
       "      <td>01d021e4-1574-4674-8a29-16f2f7750223</td>\n",
       "      <td>3</td>\n",
       "      <td>488137</td>\n",
       "      <td>FTC_NCF105 L06</td>\n",
       "      <td>Cat 3</td>\n",
       "      <td>f2f0cce1-f364-421a-9004-d41b322c9307</td>\n",
       "      <td>2024-01-19</td>\n",
       "      <td>2024-03-14</td>\n",
       "      <td>2024-03-15</td>\n",
       "      <td>NaN</td>\n",
       "      <td>None</td>\n",
       "      <td>FTC_NCF105 L06</td>\n",
       "      <td>2024-03-19</td>\n",
       "    </tr>\n",
       "    <tr>\n",
       "      <th>1</th>\n",
       "      <td>01d021e4-1574-4674-8a29-16f2f7750223</td>\n",
       "      <td>4</td>\n",
       "      <td>488137</td>\n",
       "      <td>FTC_NCF105 L06</td>\n",
       "      <td>Cat 3</td>\n",
       "      <td>f2f0cce1-f364-421a-9004-d41b322c9307</td>\n",
       "      <td>NaT</td>\n",
       "      <td>2024-03-14</td>\n",
       "      <td>2024-03-15</td>\n",
       "      <td>NaN</td>\n",
       "      <td>None</td>\n",
       "      <td>FTC_NCF105 L06</td>\n",
       "      <td>2024-03-19</td>\n",
       "    </tr>\n",
       "  </tbody>\n",
       "</table>\n",
       "</div>"
      ],
      "text/plain": [
       "                            cassette_id  cell_number  set_id        set_name  \\\n",
       "0  01d021e4-1574-4674-8a29-16f2f7750223            3  488137  FTC_NCF105 L06   \n",
       "1  01d021e4-1574-4674-8a29-16f2f7750223            4  488137  FTC_NCF105 L06   \n",
       "\n",
       "  cat_type                   planting_session_id inventory_available_date_3  \\\n",
       "0    Cat 3  f2f0cce1-f364-421a-9004-d41b322c9307                 2024-01-19   \n",
       "1    Cat 3  f2f0cce1-f364-421a-9004-d41b322c9307                        NaT   \n",
       "\n",
       "     RTE_date cassette_finalized_date  Set Id Experiment Block Name  \\\n",
       "0  2024-03-14              2024-03-15     NaN                  None   \n",
       "1  2024-03-14              2024-03-15     NaN                  None   \n",
       "\n",
       "         Set Name Greenlight Date  \n",
       "0  FTC_NCF105 L06      2024-03-19  \n",
       "1  FTC_NCF105 L06      2024-03-19  "
      ]
     },
     "execution_count": 42,
     "metadata": {},
     "output_type": "execute_result"
    }
   ],
   "source": [
    "merged_df2.head(2)"
   ]
  },
  {
   "cell_type": "code",
   "execution_count": 46,
   "id": "4ecab2d6",
   "metadata": {},
   "outputs": [
    {
     "data": {
      "text/plain": [
       "(0, 13)"
      ]
     },
     "execution_count": 46,
     "metadata": {},
     "output_type": "execute_result"
    }
   ],
   "source": [
    "filter3 = merged_df2[merged_df2['Greenlight Date'].isnull()]\n",
    "filter3.shape"
   ]
  },
  {
   "cell_type": "code",
   "execution_count": 50,
   "id": "bf97dfa9",
   "metadata": {},
   "outputs": [],
   "source": [
    "# Concatenate all merged dataframes\n",
    "final_df = pd.concat([merged_df1, merged_df2, rest_output], ignore_index=True)"
   ]
  },
  {
   "cell_type": "code",
   "execution_count": 53,
   "id": "58ae36de",
   "metadata": {},
   "outputs": [],
   "source": [
    "duplicate_rows = final_df[final_df.duplicated(subset=['cassette_id', 'cell_number'], keep=False)]\n",
    "sorted_duplicate_rows = duplicate_rows.sort_values(by=['cassette_id', 'cell_number'])\n",
    "rows_to_delete = sorted_duplicate_rows[sorted_duplicate_rows['Greenlight Date'].isnull()]"
   ]
  },
  {
   "cell_type": "code",
   "execution_count": 54,
   "id": "768d1365",
   "metadata": {
    "scrolled": true
   },
   "outputs": [
    {
     "data": {
      "text/plain": [
       "(5712, 13)"
      ]
     },
     "execution_count": 54,
     "metadata": {},
     "output_type": "execute_result"
    }
   ],
   "source": [
    "rows_to_delete.shape"
   ]
  },
  {
   "cell_type": "code",
   "execution_count": 58,
   "id": "07cc76ec",
   "metadata": {},
   "outputs": [],
   "source": [
    "mask = final_df.isin(rows_to_delete.to_dict('list')).all(axis=1)\n",
    "\n",
    "# Remove rows from df1 that are in df2\n",
    "final_output = final_df[~mask]"
   ]
  },
  {
   "cell_type": "code",
   "execution_count": 59,
   "id": "83f76718",
   "metadata": {
    "scrolled": true
   },
   "outputs": [
    {
     "data": {
      "text/plain": [
       "(894234, 13)"
      ]
     },
     "execution_count": 59,
     "metadata": {},
     "output_type": "execute_result"
    }
   ],
   "source": [
    "final_output.shape"
   ]
  },
  {
   "cell_type": "code",
   "execution_count": null,
   "id": "d36c4de2",
   "metadata": {},
   "outputs": [],
   "source": []
  },
  {
   "cell_type": "code",
   "execution_count": 60,
   "id": "75fa1ed3",
   "metadata": {},
   "outputs": [],
   "source": [
    "gl_date = final_output.groupby(['Greenlight Date','cat_type']).size().reset_index(name='n_cells')\n",
    "gl_date_pivot = gl_date.pivot(index=\"Greenlight Date\", columns=\"cat_type\", values=\"n_cells\")"
   ]
  },
  {
   "cell_type": "code",
   "execution_count": null,
   "id": "188e03c3",
   "metadata": {},
   "outputs": [],
   "source": []
  },
  {
   "cell_type": "code",
   "execution_count": 64,
   "id": "ea611505",
   "metadata": {},
   "outputs": [],
   "source": [
    "with pd.ExcelWriter('HAZ Daily Capacity by Category.xlsx') as writer:\n",
    "    final_output.to_excel(writer, sheet_name='Cassette-Cell-Category')\n",
    "    inv_avl_pivot.to_excel(writer, sheet_name='Inventory Available Date')\n",
    "    rte_pivot.to_excel(writer, sheet_name='RTE Date')\n",
    "    c_finalized_pivot.to_excel(writer, sheet_name='Cassette Finalized Date')\n",
    "    gl_date_pivot.to_excel(writer, sheet_name='Greenlight Date')"
   ]
  }
 ],
 "metadata": {
  "kernelspec": {
   "display_name": "Python 3",
   "language": "python",
   "name": "python3"
  },
  "language_info": {
   "codemirror_mode": {
    "name": "ipython",
    "version": 3
   },
   "file_extension": ".py",
   "mimetype": "text/x-python",
   "name": "python",
   "nbconvert_exporter": "python",
   "pygments_lexer": "ipython3",
   "version": "3.11.2"
  }
 },
 "nbformat": 4,
 "nbformat_minor": 5
}
