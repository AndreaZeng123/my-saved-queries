{
 "cells": [
  {
   "cell_type": "code",
   "execution_count": 1,
   "id": "87bd719a",
   "metadata": {},
   "outputs": [],
   "source": [
    "import pandas as pd\n",
    "import numpy as np\n",
    "import math\n",
    "from datetime import date, timedelta\n",
    "pd.set_option('display.max_rows', None)\n",
    "pd.set_option('display.max_columns', None)"
   ]
  },
  {
   "cell_type": "code",
   "execution_count": 2,
   "id": "1941d3e5",
   "metadata": {},
   "outputs": [],
   "source": [
    "y_lrp = pd.read_excel('Yield LRP.xlsx')\n",
    "n_lrp = pd.read_excel('Nursery LRP.xlsx')"
   ]
  },
  {
   "cell_type": "markdown",
   "id": "dd93187b",
   "metadata": {},
   "source": [
    "### Yield LRP "
   ]
  },
  {
   "cell_type": "code",
   "execution_count": 3,
   "id": "2c9bae83",
   "metadata": {
    "scrolled": true
   },
   "outputs": [
    {
     "data": {
      "text/html": [
       "<div>\n",
       "<style scoped>\n",
       "    .dataframe tbody tr th:only-of-type {\n",
       "        vertical-align: middle;\n",
       "    }\n",
       "\n",
       "    .dataframe tbody tr th {\n",
       "        vertical-align: top;\n",
       "    }\n",
       "\n",
       "    .dataframe thead th {\n",
       "        text-align: right;\n",
       "    }\n",
       "</style>\n",
       "<table border=\"1\" class=\"dataframe\">\n",
       "  <thead>\n",
       "    <tr style=\"text-align: right;\">\n",
       "      <th></th>\n",
       "      <th>LRP Tag</th>\n",
       "      <th>Tag</th>\n",
       "      <th>Crop</th>\n",
       "      <th>Year</th>\n",
       "      <th>Plots</th>\n",
       "      <th>Rows_Per_Plot</th>\n",
       "      <th>Allocated Location</th>\n",
       "      <th>Trial Type</th>\n",
       "      <th>Compliance_Types</th>\n",
       "      <th>Lumos_Compliance_Category</th>\n",
       "    </tr>\n",
       "  </thead>\n",
       "  <tbody>\n",
       "    <tr>\n",
       "      <th>0</th>\n",
       "      <td>Biotech</td>\n",
       "      <td>Corn Biotech</td>\n",
       "      <td>Corn</td>\n",
       "      <td>2025</td>\n",
       "      <td>180</td>\n",
       "      <td>NaN</td>\n",
       "      <td>Jerseyville, IL</td>\n",
       "      <td>Field Trial</td>\n",
       "      <td>Regulated/Unregistered Seed - EPA</td>\n",
       "      <td>Regulated</td>\n",
       "    </tr>\n",
       "    <tr>\n",
       "      <th>1</th>\n",
       "      <td>Biotech</td>\n",
       "      <td>Soy Biotech - North America</td>\n",
       "      <td>Soybeans</td>\n",
       "      <td>2025</td>\n",
       "      <td>3240</td>\n",
       "      <td>NaN</td>\n",
       "      <td>Jerseyville, IL</td>\n",
       "      <td>Field Trial</td>\n",
       "      <td>Regulated/Unregistered Seed - USDA-BRS</td>\n",
       "      <td>Regulated</td>\n",
       "    </tr>\n",
       "    <tr>\n",
       "      <th>2</th>\n",
       "      <td>Biotech</td>\n",
       "      <td>Corn Biotech</td>\n",
       "      <td>Corn</td>\n",
       "      <td>2025</td>\n",
       "      <td>816</td>\n",
       "      <td>NaN</td>\n",
       "      <td>Jerseyville, IL</td>\n",
       "      <td>Field Trial</td>\n",
       "      <td>Regulated/Unregistered Seed - EPA</td>\n",
       "      <td>Regulated</td>\n",
       "    </tr>\n",
       "    <tr>\n",
       "      <th>3</th>\n",
       "      <td>Biotech</td>\n",
       "      <td>Corn Biotech</td>\n",
       "      <td>Corn</td>\n",
       "      <td>2025</td>\n",
       "      <td>2448</td>\n",
       "      <td>NaN</td>\n",
       "      <td>Jerseyville, IL</td>\n",
       "      <td>Field Trial</td>\n",
       "      <td>Regulated/Unregistered Seed - EPA</td>\n",
       "      <td>Regulated</td>\n",
       "    </tr>\n",
       "    <tr>\n",
       "      <th>4</th>\n",
       "      <td>Biotech</td>\n",
       "      <td>Corn Biotech</td>\n",
       "      <td>Corn</td>\n",
       "      <td>2025</td>\n",
       "      <td>10880</td>\n",
       "      <td>NaN</td>\n",
       "      <td>Jerseyville, IL</td>\n",
       "      <td>Field Trial</td>\n",
       "      <td>Regulated/Unregistered Seed - EPA</td>\n",
       "      <td>Regulated</td>\n",
       "    </tr>\n",
       "  </tbody>\n",
       "</table>\n",
       "</div>"
      ],
      "text/plain": [
       "   LRP Tag                          Tag      Crop  Year  Plots  Rows_Per_Plot  \\\n",
       "0  Biotech                 Corn Biotech      Corn  2025    180            NaN   \n",
       "1  Biotech  Soy Biotech - North America  Soybeans  2025   3240            NaN   \n",
       "2  Biotech                 Corn Biotech      Corn  2025    816            NaN   \n",
       "3  Biotech                 Corn Biotech      Corn  2025   2448            NaN   \n",
       "4  Biotech                 Corn Biotech      Corn  2025  10880            NaN   \n",
       "\n",
       "  Allocated Location   Trial Type                        Compliance_Types  \\\n",
       "0    Jerseyville, IL  Field Trial       Regulated/Unregistered Seed - EPA   \n",
       "1    Jerseyville, IL  Field Trial  Regulated/Unregistered Seed - USDA-BRS   \n",
       "2    Jerseyville, IL  Field Trial       Regulated/Unregistered Seed - EPA   \n",
       "3    Jerseyville, IL  Field Trial       Regulated/Unregistered Seed - EPA   \n",
       "4    Jerseyville, IL  Field Trial       Regulated/Unregistered Seed - EPA   \n",
       "\n",
       "  Lumos_Compliance_Category  \n",
       "0                 Regulated  \n",
       "1                 Regulated  \n",
       "2                 Regulated  \n",
       "3                 Regulated  \n",
       "4                 Regulated  "
      ]
     },
     "execution_count": 3,
     "metadata": {},
     "output_type": "execute_result"
    }
   ],
   "source": [
    "y_lrp.head()"
   ]
  },
  {
   "cell_type": "code",
   "execution_count": 4,
   "id": "8f5f36e5",
   "metadata": {},
   "outputs": [
    {
     "data": {
      "text/plain": [
       "374"
      ]
     },
     "execution_count": 4,
     "metadata": {},
     "output_type": "execute_result"
    }
   ],
   "source": [
    "y_lrp['Rows_Per_Plot'].isnull().sum()"
   ]
  },
  {
   "cell_type": "code",
   "execution_count": 5,
   "id": "1fd06522",
   "metadata": {},
   "outputs": [],
   "source": [
    "# fill 2 for all nulls in Rows_per_plot\n",
    "y_lrp['Rows_Per_Plot'] = y_lrp['Rows_Per_Plot'].fillna(2)"
   ]
  },
  {
   "cell_type": "code",
   "execution_count": 6,
   "id": "8226ec14",
   "metadata": {},
   "outputs": [],
   "source": [
    "# cell = plot * rows\n",
    "y_lrp['Cells'] = y_lrp['Plots'] * y_lrp['Rows_Per_Plot']"
   ]
  },
  {
   "cell_type": "code",
   "execution_count": 7,
   "id": "b2fcd3e9",
   "metadata": {},
   "outputs": [],
   "source": [
    "# row = 1, pkt = cell; row > 1, pkt = cell/2\n",
    "\n",
    "y_lrp['Packets'] = np.where(y_lrp['Rows_Per_Plot']==1, y_lrp['Cells'], np.where(y_lrp['Rows_Per_Plot']>1, y_lrp['Cells']/2,0))"
   ]
  },
  {
   "cell_type": "markdown",
   "id": "a5ac6f64",
   "metadata": {},
   "source": [
    "#### Total "
   ]
  },
  {
   "cell_type": "code",
   "execution_count": 8,
   "id": "99caddaa",
   "metadata": {
    "scrolled": true
   },
   "outputs": [
    {
     "data": {
      "text/html": [
       "<div>\n",
       "<style scoped>\n",
       "    .dataframe tbody tr th:only-of-type {\n",
       "        vertical-align: middle;\n",
       "    }\n",
       "\n",
       "    .dataframe tbody tr th {\n",
       "        vertical-align: top;\n",
       "    }\n",
       "\n",
       "    .dataframe thead th {\n",
       "        text-align: right;\n",
       "    }\n",
       "</style>\n",
       "<table border=\"1\" class=\"dataframe\">\n",
       "  <thead>\n",
       "    <tr style=\"text-align: right;\">\n",
       "      <th></th>\n",
       "      <th>Cells</th>\n",
       "      <th>Packets</th>\n",
       "    </tr>\n",
       "    <tr>\n",
       "      <th>Year</th>\n",
       "      <th></th>\n",
       "      <th></th>\n",
       "    </tr>\n",
       "  </thead>\n",
       "  <tbody>\n",
       "    <tr>\n",
       "      <th>2025</th>\n",
       "      <td>758867.0</td>\n",
       "      <td>429105.0</td>\n",
       "    </tr>\n",
       "    <tr>\n",
       "      <th>2026</th>\n",
       "      <td>908454.0</td>\n",
       "      <td>501849.0</td>\n",
       "    </tr>\n",
       "  </tbody>\n",
       "</table>\n",
       "</div>"
      ],
      "text/plain": [
       "         Cells   Packets\n",
       "Year                    \n",
       "2025  758867.0  429105.0\n",
       "2026  908454.0  501849.0"
      ]
     },
     "execution_count": 8,
     "metadata": {},
     "output_type": "execute_result"
    }
   ],
   "source": [
    "# 2025,2026 cells and packets\n",
    "group_y = y_lrp.groupby('Year')[['Cells','Packets']].sum()\n",
    "#group_y = group_y.reset_index()\n",
    "group_y"
   ]
  },
  {
   "cell_type": "code",
   "execution_count": 9,
   "id": "ab4d8987",
   "metadata": {},
   "outputs": [
    {
     "data": {
      "text/html": [
       "<div>\n",
       "<style scoped>\n",
       "    .dataframe tbody tr th:only-of-type {\n",
       "        vertical-align: middle;\n",
       "    }\n",
       "\n",
       "    .dataframe tbody tr th {\n",
       "        vertical-align: top;\n",
       "    }\n",
       "\n",
       "    .dataframe thead th {\n",
       "        text-align: right;\n",
       "    }\n",
       "</style>\n",
       "<table border=\"1\" class=\"dataframe\">\n",
       "  <thead>\n",
       "    <tr style=\"text-align: right;\">\n",
       "      <th></th>\n",
       "      <th></th>\n",
       "      <th>Cells</th>\n",
       "      <th>Packets</th>\n",
       "    </tr>\n",
       "    <tr>\n",
       "      <th>Year</th>\n",
       "      <th>Crop</th>\n",
       "      <th></th>\n",
       "      <th></th>\n",
       "    </tr>\n",
       "  </thead>\n",
       "  <tbody>\n",
       "    <tr>\n",
       "      <th rowspan=\"2\" valign=\"top\">2025</th>\n",
       "      <th>Corn</th>\n",
       "      <td>582511.0</td>\n",
       "      <td>319920.0</td>\n",
       "    </tr>\n",
       "    <tr>\n",
       "      <th>Soybeans</th>\n",
       "      <td>176356.0</td>\n",
       "      <td>109185.0</td>\n",
       "    </tr>\n",
       "    <tr>\n",
       "      <th rowspan=\"2\" valign=\"top\">2026</th>\n",
       "      <th>Corn</th>\n",
       "      <td>553420.0</td>\n",
       "      <td>307364.0</td>\n",
       "    </tr>\n",
       "    <tr>\n",
       "      <th>Soybeans</th>\n",
       "      <td>355034.0</td>\n",
       "      <td>194485.0</td>\n",
       "    </tr>\n",
       "  </tbody>\n",
       "</table>\n",
       "</div>"
      ],
      "text/plain": [
       "                  Cells   Packets\n",
       "Year Crop                        \n",
       "2025 Corn      582511.0  319920.0\n",
       "     Soybeans  176356.0  109185.0\n",
       "2026 Corn      553420.0  307364.0\n",
       "     Soybeans  355034.0  194485.0"
      ]
     },
     "execution_count": 9,
     "metadata": {},
     "output_type": "execute_result"
    }
   ],
   "source": [
    "groupcrop_y = y_lrp.groupby(['Year','Crop'])[['Cells','Packets']].sum()\n",
    "groupcrop_y"
   ]
  },
  {
   "cell_type": "markdown",
   "id": "5a173074",
   "metadata": {},
   "source": [
    "#### Excl Corn "
   ]
  },
  {
   "cell_type": "code",
   "execution_count": 10,
   "id": "1254541a",
   "metadata": {},
   "outputs": [
    {
     "data": {
      "text/html": [
       "<div>\n",
       "<style scoped>\n",
       "    .dataframe tbody tr th:only-of-type {\n",
       "        vertical-align: middle;\n",
       "    }\n",
       "\n",
       "    .dataframe tbody tr th {\n",
       "        vertical-align: top;\n",
       "    }\n",
       "\n",
       "    .dataframe thead th {\n",
       "        text-align: right;\n",
       "    }\n",
       "</style>\n",
       "<table border=\"1\" class=\"dataframe\">\n",
       "  <thead>\n",
       "    <tr style=\"text-align: right;\">\n",
       "      <th></th>\n",
       "      <th>Cells</th>\n",
       "      <th>Packets</th>\n",
       "    </tr>\n",
       "    <tr>\n",
       "      <th>Year</th>\n",
       "      <th></th>\n",
       "      <th></th>\n",
       "    </tr>\n",
       "  </thead>\n",
       "  <tbody>\n",
       "    <tr>\n",
       "      <th>2025</th>\n",
       "      <td>176356.0</td>\n",
       "      <td>109185.0</td>\n",
       "    </tr>\n",
       "    <tr>\n",
       "      <th>2026</th>\n",
       "      <td>355034.0</td>\n",
       "      <td>194485.0</td>\n",
       "    </tr>\n",
       "  </tbody>\n",
       "</table>\n",
       "</div>"
      ],
      "text/plain": [
       "         Cells   Packets\n",
       "Year                    \n",
       "2025  176356.0  109185.0\n",
       "2026  355034.0  194485.0"
      ]
     },
     "execution_count": 10,
     "metadata": {},
     "output_type": "execute_result"
    }
   ],
   "source": [
    "filter_y = y_lrp[y_lrp['Crop'] !='Corn']\n",
    "group_fy = filter_y.groupby('Year')[['Cells','Packets']].sum()\n",
    "group_fy"
   ]
  },
  {
   "cell_type": "markdown",
   "id": "7289dc66",
   "metadata": {},
   "source": [
    "### Nursery LRP"
   ]
  },
  {
   "cell_type": "code",
   "execution_count": 11,
   "id": "5b379bcf",
   "metadata": {
    "scrolled": false
   },
   "outputs": [
    {
     "data": {
      "text/html": [
       "<div>\n",
       "<style scoped>\n",
       "    .dataframe tbody tr th:only-of-type {\n",
       "        vertical-align: middle;\n",
       "    }\n",
       "\n",
       "    .dataframe tbody tr th {\n",
       "        vertical-align: top;\n",
       "    }\n",
       "\n",
       "    .dataframe thead th {\n",
       "        text-align: right;\n",
       "    }\n",
       "</style>\n",
       "<table border=\"1\" class=\"dataframe\">\n",
       "  <thead>\n",
       "    <tr style=\"text-align: right;\">\n",
       "      <th></th>\n",
       "      <th>LRP Tag</th>\n",
       "      <th>Tag</th>\n",
       "      <th>Crop</th>\n",
       "      <th>Year</th>\n",
       "      <th>Pots/Flats</th>\n",
       "      <th>Effort Factor</th>\n",
       "      <th>SRE</th>\n",
       "      <th>Calculated_Seed_Products</th>\n",
       "      <th>Compliance_Types</th>\n",
       "      <th>Lumos_Compliance_Category</th>\n",
       "      <th>Plot_Row_Length</th>\n",
       "      <th>Rows_Per_Plot</th>\n",
       "      <th>Description</th>\n",
       "    </tr>\n",
       "  </thead>\n",
       "  <tbody>\n",
       "    <tr>\n",
       "      <th>0</th>\n",
       "      <td>Biotech</td>\n",
       "      <td>Corn Biotech</td>\n",
       "      <td>Corn</td>\n",
       "      <td>2026</td>\n",
       "      <td>NaN</td>\n",
       "      <td>NaN</td>\n",
       "      <td>87</td>\n",
       "      <td>NaN</td>\n",
       "      <td>Regulated/Unregistered Seed - USDA-BRS</td>\n",
       "      <td>Regulated</td>\n",
       "      <td>NaN</td>\n",
       "      <td>NaN</td>\n",
       "      <td>SCC (SD419) HMU</td>\n",
       "    </tr>\n",
       "    <tr>\n",
       "      <th>1</th>\n",
       "      <td>Biotech</td>\n",
       "      <td>Corn Biotech</td>\n",
       "      <td>Corn</td>\n",
       "      <td>2025</td>\n",
       "      <td>NaN</td>\n",
       "      <td>NaN</td>\n",
       "      <td>173</td>\n",
       "      <td>NaN</td>\n",
       "      <td>Regulated/Unregistered Seed - USDA-BRS</td>\n",
       "      <td>Regulated</td>\n",
       "      <td>NaN</td>\n",
       "      <td>NaN</td>\n",
       "      <td>NA CY26 SSC SD419 HMU</td>\n",
       "    </tr>\n",
       "    <tr>\n",
       "      <th>2</th>\n",
       "      <td>Biotech</td>\n",
       "      <td>Corn Biotech</td>\n",
       "      <td>Corn</td>\n",
       "      <td>2025</td>\n",
       "      <td>NaN</td>\n",
       "      <td>NaN</td>\n",
       "      <td>184</td>\n",
       "      <td>NaN</td>\n",
       "      <td>Regulated/Unregistered Seed - USDA-BRS</td>\n",
       "      <td>Regulated</td>\n",
       "      <td>NaN</td>\n",
       "      <td>NaN</td>\n",
       "      <td>NA CY26 Root SI</td>\n",
       "    </tr>\n",
       "    <tr>\n",
       "      <th>3</th>\n",
       "      <td>Biotech</td>\n",
       "      <td>Corn Biotech</td>\n",
       "      <td>Corn</td>\n",
       "      <td>2026</td>\n",
       "      <td>NaN</td>\n",
       "      <td>NaN</td>\n",
       "      <td>173</td>\n",
       "      <td>NaN</td>\n",
       "      <td>Regulated/Unregistered Seed - USDA-BRS</td>\n",
       "      <td>Regulated</td>\n",
       "      <td>NaN</td>\n",
       "      <td>NaN</td>\n",
       "      <td>NA CY27 Root SI</td>\n",
       "    </tr>\n",
       "    <tr>\n",
       "      <th>4</th>\n",
       "      <td>Biotech</td>\n",
       "      <td>Corn Biotech</td>\n",
       "      <td>Corn</td>\n",
       "      <td>2026</td>\n",
       "      <td>NaN</td>\n",
       "      <td>NaN</td>\n",
       "      <td>432</td>\n",
       "      <td>NaN</td>\n",
       "      <td>Regulated/Unregistered Seed - USDA-BRS</td>\n",
       "      <td>Regulated</td>\n",
       "      <td>NaN</td>\n",
       "      <td>NaN</td>\n",
       "      <td>NA CY27 Transformation SI HMU</td>\n",
       "    </tr>\n",
       "  </tbody>\n",
       "</table>\n",
       "</div>"
      ],
      "text/plain": [
       "   LRP Tag           Tag  Crop  Year  Pots/Flats  Effort Factor  SRE  \\\n",
       "0  Biotech  Corn Biotech  Corn  2026         NaN            NaN   87   \n",
       "1  Biotech  Corn Biotech  Corn  2025         NaN            NaN  173   \n",
       "2  Biotech  Corn Biotech  Corn  2025         NaN            NaN  184   \n",
       "3  Biotech  Corn Biotech  Corn  2026         NaN            NaN  173   \n",
       "4  Biotech  Corn Biotech  Corn  2026         NaN            NaN  432   \n",
       "\n",
       "   Calculated_Seed_Products                        Compliance_Types  \\\n",
       "0                       NaN  Regulated/Unregistered Seed - USDA-BRS   \n",
       "1                       NaN  Regulated/Unregistered Seed - USDA-BRS   \n",
       "2                       NaN  Regulated/Unregistered Seed - USDA-BRS   \n",
       "3                       NaN  Regulated/Unregistered Seed - USDA-BRS   \n",
       "4                       NaN  Regulated/Unregistered Seed - USDA-BRS   \n",
       "\n",
       "  Lumos_Compliance_Category  Plot_Row_Length  Rows_Per_Plot  \\\n",
       "0                 Regulated              NaN            NaN   \n",
       "1                 Regulated              NaN            NaN   \n",
       "2                 Regulated              NaN            NaN   \n",
       "3                 Regulated              NaN            NaN   \n",
       "4                 Regulated              NaN            NaN   \n",
       "\n",
       "                     Description  \n",
       "0                SCC (SD419) HMU  \n",
       "1          NA CY26 SSC SD419 HMU  \n",
       "2                NA CY26 Root SI  \n",
       "3                NA CY27 Root SI  \n",
       "4  NA CY27 Transformation SI HMU  "
      ]
     },
     "execution_count": 11,
     "metadata": {},
     "output_type": "execute_result"
    }
   ],
   "source": [
    "n_lrp.head()"
   ]
  },
  {
   "cell_type": "code",
   "execution_count": 12,
   "id": "8b6d90e5",
   "metadata": {
    "scrolled": true
   },
   "outputs": [
    {
     "data": {
      "text/plain": [
       "457"
      ]
     },
     "execution_count": 12,
     "metadata": {},
     "output_type": "execute_result"
    }
   ],
   "source": [
    "n_lrp['Rows_Per_Plot'].isnull().sum()"
   ]
  },
  {
   "cell_type": "code",
   "execution_count": 13,
   "id": "193aa315",
   "metadata": {},
   "outputs": [],
   "source": [
    "# fill 1 for all nulls in Rows_per_plot\n",
    "n_lrp['Rows_Per_Plot'] = n_lrp['Rows_Per_Plot'].fillna(1)"
   ]
  },
  {
   "cell_type": "code",
   "execution_count": 14,
   "id": "14d466a9",
   "metadata": {},
   "outputs": [],
   "source": [
    "# cell = plot * rows\n",
    "n_lrp['Cells'] = n_lrp['SRE'] * n_lrp['Rows_Per_Plot']"
   ]
  },
  {
   "cell_type": "code",
   "execution_count": 15,
   "id": "a9bb4ef7",
   "metadata": {},
   "outputs": [],
   "source": [
    "# row = 1, pkt = cell; row > 1, pkt = cell/2\n",
    "\n",
    "n_lrp['Packets'] = np.where(n_lrp['Rows_Per_Plot']==1, n_lrp['Cells'], np.where(n_lrp['Rows_Per_Plot']>1, n_lrp['Cells']/2,0))"
   ]
  },
  {
   "cell_type": "markdown",
   "id": "d7aff7c1",
   "metadata": {},
   "source": [
    "#### Total"
   ]
  },
  {
   "cell_type": "code",
   "execution_count": 16,
   "id": "c505e9db",
   "metadata": {
    "scrolled": true
   },
   "outputs": [
    {
     "data": {
      "text/html": [
       "<div>\n",
       "<style scoped>\n",
       "    .dataframe tbody tr th:only-of-type {\n",
       "        vertical-align: middle;\n",
       "    }\n",
       "\n",
       "    .dataframe tbody tr th {\n",
       "        vertical-align: top;\n",
       "    }\n",
       "\n",
       "    .dataframe thead th {\n",
       "        text-align: right;\n",
       "    }\n",
       "</style>\n",
       "<table border=\"1\" class=\"dataframe\">\n",
       "  <thead>\n",
       "    <tr style=\"text-align: right;\">\n",
       "      <th></th>\n",
       "      <th>Cells</th>\n",
       "      <th>Packets</th>\n",
       "    </tr>\n",
       "    <tr>\n",
       "      <th>Year</th>\n",
       "      <th></th>\n",
       "      <th></th>\n",
       "    </tr>\n",
       "  </thead>\n",
       "  <tbody>\n",
       "    <tr>\n",
       "      <th>2025</th>\n",
       "      <td>470590.0</td>\n",
       "      <td>467378.0</td>\n",
       "    </tr>\n",
       "    <tr>\n",
       "      <th>2026</th>\n",
       "      <td>824398.0</td>\n",
       "      <td>673810.0</td>\n",
       "    </tr>\n",
       "  </tbody>\n",
       "</table>\n",
       "</div>"
      ],
      "text/plain": [
       "         Cells   Packets\n",
       "Year                    \n",
       "2025  470590.0  467378.0\n",
       "2026  824398.0  673810.0"
      ]
     },
     "execution_count": 16,
     "metadata": {},
     "output_type": "execute_result"
    }
   ],
   "source": [
    "# 2025,2026 cells and packets\n",
    "group_n = n_lrp.groupby('Year')[['Cells','Packets']].sum()\n",
    "#group_n = group_n.reset_index()\n",
    "group_n"
   ]
  },
  {
   "cell_type": "code",
   "execution_count": 17,
   "id": "607c8937",
   "metadata": {},
   "outputs": [
    {
     "data": {
      "text/html": [
       "<div>\n",
       "<style scoped>\n",
       "    .dataframe tbody tr th:only-of-type {\n",
       "        vertical-align: middle;\n",
       "    }\n",
       "\n",
       "    .dataframe tbody tr th {\n",
       "        vertical-align: top;\n",
       "    }\n",
       "\n",
       "    .dataframe thead th {\n",
       "        text-align: right;\n",
       "    }\n",
       "</style>\n",
       "<table border=\"1\" class=\"dataframe\">\n",
       "  <thead>\n",
       "    <tr style=\"text-align: right;\">\n",
       "      <th></th>\n",
       "      <th></th>\n",
       "      <th>Cells</th>\n",
       "      <th>Packets</th>\n",
       "    </tr>\n",
       "    <tr>\n",
       "      <th>Year</th>\n",
       "      <th>Crop</th>\n",
       "      <th></th>\n",
       "      <th></th>\n",
       "    </tr>\n",
       "  </thead>\n",
       "  <tbody>\n",
       "    <tr>\n",
       "      <th rowspan=\"2\" valign=\"top\">2025</th>\n",
       "      <th>Corn</th>\n",
       "      <td>84638.0</td>\n",
       "      <td>84638.0</td>\n",
       "    </tr>\n",
       "    <tr>\n",
       "      <th>Soybeans</th>\n",
       "      <td>385952.0</td>\n",
       "      <td>382740.0</td>\n",
       "    </tr>\n",
       "    <tr>\n",
       "      <th rowspan=\"2\" valign=\"top\">2026</th>\n",
       "      <th>Corn</th>\n",
       "      <td>84359.0</td>\n",
       "      <td>84359.0</td>\n",
       "    </tr>\n",
       "    <tr>\n",
       "      <th>Soybeans</th>\n",
       "      <td>740039.0</td>\n",
       "      <td>589451.0</td>\n",
       "    </tr>\n",
       "  </tbody>\n",
       "</table>\n",
       "</div>"
      ],
      "text/plain": [
       "                  Cells   Packets\n",
       "Year Crop                        \n",
       "2025 Corn       84638.0   84638.0\n",
       "     Soybeans  385952.0  382740.0\n",
       "2026 Corn       84359.0   84359.0\n",
       "     Soybeans  740039.0  589451.0"
      ]
     },
     "execution_count": 17,
     "metadata": {},
     "output_type": "execute_result"
    }
   ],
   "source": [
    "groupcrop_n = n_lrp.groupby(['Year','Crop'])[['Cells','Packets']].sum()\n",
    "groupcrop_n"
   ]
  },
  {
   "cell_type": "markdown",
   "id": "9bcb396d",
   "metadata": {},
   "source": [
    "#### Excl Corn"
   ]
  },
  {
   "cell_type": "code",
   "execution_count": 18,
   "id": "043ccabe",
   "metadata": {},
   "outputs": [
    {
     "data": {
      "text/html": [
       "<div>\n",
       "<style scoped>\n",
       "    .dataframe tbody tr th:only-of-type {\n",
       "        vertical-align: middle;\n",
       "    }\n",
       "\n",
       "    .dataframe tbody tr th {\n",
       "        vertical-align: top;\n",
       "    }\n",
       "\n",
       "    .dataframe thead th {\n",
       "        text-align: right;\n",
       "    }\n",
       "</style>\n",
       "<table border=\"1\" class=\"dataframe\">\n",
       "  <thead>\n",
       "    <tr style=\"text-align: right;\">\n",
       "      <th></th>\n",
       "      <th>Cells</th>\n",
       "      <th>Packets</th>\n",
       "    </tr>\n",
       "    <tr>\n",
       "      <th>Year</th>\n",
       "      <th></th>\n",
       "      <th></th>\n",
       "    </tr>\n",
       "  </thead>\n",
       "  <tbody>\n",
       "    <tr>\n",
       "      <th>2025</th>\n",
       "      <td>385952.0</td>\n",
       "      <td>382740.0</td>\n",
       "    </tr>\n",
       "    <tr>\n",
       "      <th>2026</th>\n",
       "      <td>740039.0</td>\n",
       "      <td>589451.0</td>\n",
       "    </tr>\n",
       "  </tbody>\n",
       "</table>\n",
       "</div>"
      ],
      "text/plain": [
       "         Cells   Packets\n",
       "Year                    \n",
       "2025  385952.0  382740.0\n",
       "2026  740039.0  589451.0"
      ]
     },
     "execution_count": 18,
     "metadata": {},
     "output_type": "execute_result"
    }
   ],
   "source": [
    "filter_n = n_lrp[n_lrp['Crop'] !='Corn']\n",
    "group_fn = filter_n.groupby('Year')[['Cells','Packets']].sum()\n",
    "group_fn"
   ]
  },
  {
   "cell_type": "markdown",
   "id": "b22c14fa",
   "metadata": {},
   "source": [
    "### Yield+Nursery "
   ]
  },
  {
   "cell_type": "markdown",
   "id": "8fa7df81",
   "metadata": {},
   "source": [
    "#### Total "
   ]
  },
  {
   "cell_type": "code",
   "execution_count": 26,
   "id": "66aa490c",
   "metadata": {},
   "outputs": [
    {
     "data": {
      "text/html": [
       "<div>\n",
       "<style scoped>\n",
       "    .dataframe tbody tr th:only-of-type {\n",
       "        vertical-align: middle;\n",
       "    }\n",
       "\n",
       "    .dataframe tbody tr th {\n",
       "        vertical-align: top;\n",
       "    }\n",
       "\n",
       "    .dataframe thead th {\n",
       "        text-align: right;\n",
       "    }\n",
       "</style>\n",
       "<table border=\"1\" class=\"dataframe\">\n",
       "  <thead>\n",
       "    <tr style=\"text-align: right;\">\n",
       "      <th></th>\n",
       "      <th></th>\n",
       "      <th>Cells</th>\n",
       "      <th>Packets</th>\n",
       "    </tr>\n",
       "    <tr>\n",
       "      <th>Year</th>\n",
       "      <th>Crop</th>\n",
       "      <th></th>\n",
       "      <th></th>\n",
       "    </tr>\n",
       "  </thead>\n",
       "  <tbody>\n",
       "    <tr>\n",
       "      <th rowspan=\"2\" valign=\"top\">2025</th>\n",
       "      <th>Corn</th>\n",
       "      <td>667149.0</td>\n",
       "      <td>404558.0</td>\n",
       "    </tr>\n",
       "    <tr>\n",
       "      <th>Soybeans</th>\n",
       "      <td>562308.0</td>\n",
       "      <td>491925.0</td>\n",
       "    </tr>\n",
       "    <tr>\n",
       "      <th rowspan=\"2\" valign=\"top\">2026</th>\n",
       "      <th>Corn</th>\n",
       "      <td>637779.0</td>\n",
       "      <td>391723.0</td>\n",
       "    </tr>\n",
       "    <tr>\n",
       "      <th>Soybeans</th>\n",
       "      <td>1095073.0</td>\n",
       "      <td>783936.0</td>\n",
       "    </tr>\n",
       "  </tbody>\n",
       "</table>\n",
       "</div>"
      ],
      "text/plain": [
       "                   Cells   Packets\n",
       "Year Crop                         \n",
       "2025 Corn       667149.0  404558.0\n",
       "     Soybeans   562308.0  491925.0\n",
       "2026 Corn       637779.0  391723.0\n",
       "     Soybeans  1095073.0  783936.0"
      ]
     },
     "execution_count": 26,
     "metadata": {},
     "output_type": "execute_result"
    }
   ],
   "source": [
    "groupcrop_t = groupcrop_y + groupcrop_n\n",
    "groupcrop_t"
   ]
  },
  {
   "cell_type": "code",
   "execution_count": 19,
   "id": "ee400051",
   "metadata": {},
   "outputs": [
    {
     "data": {
      "text/html": [
       "<div>\n",
       "<style scoped>\n",
       "    .dataframe tbody tr th:only-of-type {\n",
       "        vertical-align: middle;\n",
       "    }\n",
       "\n",
       "    .dataframe tbody tr th {\n",
       "        vertical-align: top;\n",
       "    }\n",
       "\n",
       "    .dataframe thead th {\n",
       "        text-align: right;\n",
       "    }\n",
       "</style>\n",
       "<table border=\"1\" class=\"dataframe\">\n",
       "  <thead>\n",
       "    <tr style=\"text-align: right;\">\n",
       "      <th></th>\n",
       "      <th>Cells</th>\n",
       "      <th>Packets</th>\n",
       "    </tr>\n",
       "    <tr>\n",
       "      <th>Year</th>\n",
       "      <th></th>\n",
       "      <th></th>\n",
       "    </tr>\n",
       "  </thead>\n",
       "  <tbody>\n",
       "    <tr>\n",
       "      <th>2025</th>\n",
       "      <td>1229457.0</td>\n",
       "      <td>896483.0</td>\n",
       "    </tr>\n",
       "    <tr>\n",
       "      <th>2026</th>\n",
       "      <td>1732852.0</td>\n",
       "      <td>1175659.0</td>\n",
       "    </tr>\n",
       "  </tbody>\n",
       "</table>\n",
       "</div>"
      ],
      "text/plain": [
       "          Cells    Packets\n",
       "Year                      \n",
       "2025  1229457.0   896483.0\n",
       "2026  1732852.0  1175659.0"
      ]
     },
     "execution_count": 19,
     "metadata": {},
     "output_type": "execute_result"
    }
   ],
   "source": [
    "group_t = group_y+group_n\n",
    "group_t"
   ]
  },
  {
   "cell_type": "code",
   "execution_count": 20,
   "id": "700c7121",
   "metadata": {},
   "outputs": [
    {
     "data": {
      "text/html": [
       "<div>\n",
       "<style scoped>\n",
       "    .dataframe tbody tr th:only-of-type {\n",
       "        vertical-align: middle;\n",
       "    }\n",
       "\n",
       "    .dataframe tbody tr th {\n",
       "        vertical-align: top;\n",
       "    }\n",
       "\n",
       "    .dataframe thead th {\n",
       "        text-align: right;\n",
       "    }\n",
       "</style>\n",
       "<table border=\"1\" class=\"dataframe\">\n",
       "  <thead>\n",
       "    <tr style=\"text-align: right;\">\n",
       "      <th></th>\n",
       "      <th>Cells</th>\n",
       "      <th>Packets</th>\n",
       "    </tr>\n",
       "    <tr>\n",
       "      <th>Year</th>\n",
       "      <th></th>\n",
       "      <th></th>\n",
       "    </tr>\n",
       "  </thead>\n",
       "  <tbody>\n",
       "    <tr>\n",
       "      <th>2024</th>\n",
       "      <td>902686.0</td>\n",
       "      <td>404245.0</td>\n",
       "    </tr>\n",
       "    <tr>\n",
       "      <th>2025</th>\n",
       "      <td>1229457.0</td>\n",
       "      <td>896483.0</td>\n",
       "    </tr>\n",
       "    <tr>\n",
       "      <th>2026</th>\n",
       "      <td>1732852.0</td>\n",
       "      <td>1175659.0</td>\n",
       "    </tr>\n",
       "  </tbody>\n",
       "</table>\n",
       "</div>"
      ],
      "text/plain": [
       "          Cells    Packets\n",
       "Year                      \n",
       "2024   902686.0   404245.0\n",
       "2025  1229457.0   896483.0\n",
       "2026  1732852.0  1175659.0"
      ]
     },
     "execution_count": 20,
     "metadata": {},
     "output_type": "execute_result"
    }
   ],
   "source": [
    "row_2024 = pd.Series({'Cells':902686, 'Packets':404245},name=2024)\n",
    "group_t.loc[2024]=row_2024\n",
    "group_t = group_t.sort_index()\n",
    "group_t"
   ]
  },
  {
   "cell_type": "code",
   "execution_count": 21,
   "id": "a6f50e82",
   "metadata": {},
   "outputs": [],
   "source": [
    "group_t['Cells_yoy'] = group_t['Cells'].pct_change(periods=1).round(2)\n",
    "group_t['Packets_yoy'] = group_t['Packets'].pct_change(periods=1).round(2)\n"
   ]
  },
  {
   "cell_type": "code",
   "execution_count": 22,
   "id": "a87c927e",
   "metadata": {},
   "outputs": [
    {
     "data": {
      "text/html": [
       "<div>\n",
       "<style scoped>\n",
       "    .dataframe tbody tr th:only-of-type {\n",
       "        vertical-align: middle;\n",
       "    }\n",
       "\n",
       "    .dataframe tbody tr th {\n",
       "        vertical-align: top;\n",
       "    }\n",
       "\n",
       "    .dataframe thead th {\n",
       "        text-align: right;\n",
       "    }\n",
       "</style>\n",
       "<table border=\"1\" class=\"dataframe\">\n",
       "  <thead>\n",
       "    <tr style=\"text-align: right;\">\n",
       "      <th></th>\n",
       "      <th>Cells</th>\n",
       "      <th>Packets</th>\n",
       "      <th>Cells_yoy</th>\n",
       "      <th>Packets_yoy</th>\n",
       "    </tr>\n",
       "    <tr>\n",
       "      <th>Year</th>\n",
       "      <th></th>\n",
       "      <th></th>\n",
       "      <th></th>\n",
       "      <th></th>\n",
       "    </tr>\n",
       "  </thead>\n",
       "  <tbody>\n",
       "    <tr>\n",
       "      <th>2024</th>\n",
       "      <td>902686.0</td>\n",
       "      <td>404245.0</td>\n",
       "      <td>NaN</td>\n",
       "      <td>NaN</td>\n",
       "    </tr>\n",
       "    <tr>\n",
       "      <th>2025</th>\n",
       "      <td>1229457.0</td>\n",
       "      <td>896483.0</td>\n",
       "      <td>0.36</td>\n",
       "      <td>1.22</td>\n",
       "    </tr>\n",
       "    <tr>\n",
       "      <th>2026</th>\n",
       "      <td>1732852.0</td>\n",
       "      <td>1175659.0</td>\n",
       "      <td>0.41</td>\n",
       "      <td>0.31</td>\n",
       "    </tr>\n",
       "  </tbody>\n",
       "</table>\n",
       "</div>"
      ],
      "text/plain": [
       "          Cells    Packets  Cells_yoy  Packets_yoy\n",
       "Year                                              \n",
       "2024   902686.0   404245.0        NaN          NaN\n",
       "2025  1229457.0   896483.0       0.36         1.22\n",
       "2026  1732852.0  1175659.0       0.41         0.31"
      ]
     },
     "execution_count": 22,
     "metadata": {},
     "output_type": "execute_result"
    }
   ],
   "source": [
    "group_t"
   ]
  },
  {
   "cell_type": "markdown",
   "id": "719bb87d",
   "metadata": {},
   "source": [
    "#### Excl Corn"
   ]
  },
  {
   "cell_type": "code",
   "execution_count": 23,
   "id": "0f3087ac",
   "metadata": {},
   "outputs": [
    {
     "data": {
      "text/html": [
       "<div>\n",
       "<style scoped>\n",
       "    .dataframe tbody tr th:only-of-type {\n",
       "        vertical-align: middle;\n",
       "    }\n",
       "\n",
       "    .dataframe tbody tr th {\n",
       "        vertical-align: top;\n",
       "    }\n",
       "\n",
       "    .dataframe thead th {\n",
       "        text-align: right;\n",
       "    }\n",
       "</style>\n",
       "<table border=\"1\" class=\"dataframe\">\n",
       "  <thead>\n",
       "    <tr style=\"text-align: right;\">\n",
       "      <th></th>\n",
       "      <th>Cells</th>\n",
       "      <th>Packets</th>\n",
       "    </tr>\n",
       "    <tr>\n",
       "      <th>Year</th>\n",
       "      <th></th>\n",
       "      <th></th>\n",
       "    </tr>\n",
       "  </thead>\n",
       "  <tbody>\n",
       "    <tr>\n",
       "      <th>2025</th>\n",
       "      <td>562308.0</td>\n",
       "      <td>491925.0</td>\n",
       "    </tr>\n",
       "    <tr>\n",
       "      <th>2026</th>\n",
       "      <td>1095073.0</td>\n",
       "      <td>783936.0</td>\n",
       "    </tr>\n",
       "  </tbody>\n",
       "</table>\n",
       "</div>"
      ],
      "text/plain": [
       "          Cells   Packets\n",
       "Year                     \n",
       "2025   562308.0  491925.0\n",
       "2026  1095073.0  783936.0"
      ]
     },
     "execution_count": 23,
     "metadata": {},
     "output_type": "execute_result"
    }
   ],
   "source": [
    "group_texcl = group_fy+group_fn\n",
    "group_texcl"
   ]
  },
  {
   "cell_type": "code",
   "execution_count": 24,
   "id": "525e919b",
   "metadata": {},
   "outputs": [
    {
     "data": {
      "text/html": [
       "<div>\n",
       "<style scoped>\n",
       "    .dataframe tbody tr th:only-of-type {\n",
       "        vertical-align: middle;\n",
       "    }\n",
       "\n",
       "    .dataframe tbody tr th {\n",
       "        vertical-align: top;\n",
       "    }\n",
       "\n",
       "    .dataframe thead th {\n",
       "        text-align: right;\n",
       "    }\n",
       "</style>\n",
       "<table border=\"1\" class=\"dataframe\">\n",
       "  <thead>\n",
       "    <tr style=\"text-align: right;\">\n",
       "      <th></th>\n",
       "      <th>Cells</th>\n",
       "      <th>Packets</th>\n",
       "    </tr>\n",
       "    <tr>\n",
       "      <th>Year</th>\n",
       "      <th></th>\n",
       "      <th></th>\n",
       "    </tr>\n",
       "  </thead>\n",
       "  <tbody>\n",
       "    <tr>\n",
       "      <th>2024</th>\n",
       "      <td>902686.0</td>\n",
       "      <td>404245.0</td>\n",
       "    </tr>\n",
       "    <tr>\n",
       "      <th>2025</th>\n",
       "      <td>562308.0</td>\n",
       "      <td>491925.0</td>\n",
       "    </tr>\n",
       "    <tr>\n",
       "      <th>2026</th>\n",
       "      <td>1095073.0</td>\n",
       "      <td>783936.0</td>\n",
       "    </tr>\n",
       "  </tbody>\n",
       "</table>\n",
       "</div>"
      ],
      "text/plain": [
       "          Cells   Packets\n",
       "Year                     \n",
       "2024   902686.0  404245.0\n",
       "2025   562308.0  491925.0\n",
       "2026  1095073.0  783936.0"
      ]
     },
     "execution_count": 24,
     "metadata": {},
     "output_type": "execute_result"
    }
   ],
   "source": [
    "row_2024 = pd.Series({'Cells':902686, 'Packets':404245},name=2024)\n",
    "group_texcl.loc[2024]=row_2024\n",
    "group_texcl = group_texcl.sort_index()\n",
    "group_texcl"
   ]
  },
  {
   "cell_type": "code",
   "execution_count": 25,
   "id": "3c7fc599",
   "metadata": {},
   "outputs": [
    {
     "data": {
      "text/html": [
       "<div>\n",
       "<style scoped>\n",
       "    .dataframe tbody tr th:only-of-type {\n",
       "        vertical-align: middle;\n",
       "    }\n",
       "\n",
       "    .dataframe tbody tr th {\n",
       "        vertical-align: top;\n",
       "    }\n",
       "\n",
       "    .dataframe thead th {\n",
       "        text-align: right;\n",
       "    }\n",
       "</style>\n",
       "<table border=\"1\" class=\"dataframe\">\n",
       "  <thead>\n",
       "    <tr style=\"text-align: right;\">\n",
       "      <th></th>\n",
       "      <th>Cells</th>\n",
       "      <th>Packets</th>\n",
       "      <th>Cells_yoy</th>\n",
       "      <th>Packets_yoy</th>\n",
       "    </tr>\n",
       "    <tr>\n",
       "      <th>Year</th>\n",
       "      <th></th>\n",
       "      <th></th>\n",
       "      <th></th>\n",
       "      <th></th>\n",
       "    </tr>\n",
       "  </thead>\n",
       "  <tbody>\n",
       "    <tr>\n",
       "      <th>2024</th>\n",
       "      <td>902686.0</td>\n",
       "      <td>404245.0</td>\n",
       "      <td>NaN</td>\n",
       "      <td>NaN</td>\n",
       "    </tr>\n",
       "    <tr>\n",
       "      <th>2025</th>\n",
       "      <td>562308.0</td>\n",
       "      <td>491925.0</td>\n",
       "      <td>-0.38</td>\n",
       "      <td>0.22</td>\n",
       "    </tr>\n",
       "    <tr>\n",
       "      <th>2026</th>\n",
       "      <td>1095073.0</td>\n",
       "      <td>783936.0</td>\n",
       "      <td>0.95</td>\n",
       "      <td>0.59</td>\n",
       "    </tr>\n",
       "  </tbody>\n",
       "</table>\n",
       "</div>"
      ],
      "text/plain": [
       "          Cells   Packets  Cells_yoy  Packets_yoy\n",
       "Year                                             \n",
       "2024   902686.0  404245.0        NaN          NaN\n",
       "2025   562308.0  491925.0      -0.38         0.22\n",
       "2026  1095073.0  783936.0       0.95         0.59"
      ]
     },
     "execution_count": 25,
     "metadata": {},
     "output_type": "execute_result"
    }
   ],
   "source": [
    "group_texcl['Cells_yoy'] = group_texcl['Cells'].pct_change(periods=1).round(2)\n",
    "group_texcl['Packets_yoy'] = group_texcl['Packets'].pct_change(periods=1).round(2)\n",
    "group_texcl"
   ]
  }
 ],
 "metadata": {
  "kernelspec": {
   "display_name": "Python 3 (ipykernel)",
   "language": "python",
   "name": "python3"
  },
  "language_info": {
   "codemirror_mode": {
    "name": "ipython",
    "version": 3
   },
   "file_extension": ".py",
   "mimetype": "text/x-python",
   "name": "python",
   "nbconvert_exporter": "python",
   "pygments_lexer": "ipython3",
   "version": "3.8.5"
  }
 },
 "nbformat": 4,
 "nbformat_minor": 5
}
